{
 "cells": [
  {
   "cell_type": "markdown",
   "id": "051d8aa5-0e1f-40ea-bb38-2ca16d7e2758",
   "metadata": {},
   "source": [
    "# Loan Regression"
   ]
  },
  {
   "cell_type": "markdown",
   "id": "1faba1fd-ab17-46ac-9e85-9fed0f8cc306",
   "metadata": {},
   "source": [
    "## import library and read dataset"
   ]
  },
  {
   "cell_type": "code",
   "execution_count": 1,
   "id": "192a1994-36dd-48a1-97ac-bb1932819998",
   "metadata": {},
   "outputs": [],
   "source": [
    "import numpy as np\n",
    "import pandas as pd\n",
    "import matplotlib.pyplot as plt\n",
    "import seaborn as sns"
   ]
  },
  {
   "cell_type": "code",
   "execution_count": 2,
   "id": "db0ec0f6-afee-41df-831f-d635c9c7c45f",
   "metadata": {},
   "outputs": [
    {
     "data": {
      "text/html": [
       "<div>\n",
       "<style scoped>\n",
       "    .dataframe tbody tr th:only-of-type {\n",
       "        vertical-align: middle;\n",
       "    }\n",
       "\n",
       "    .dataframe tbody tr th {\n",
       "        vertical-align: top;\n",
       "    }\n",
       "\n",
       "    .dataframe thead th {\n",
       "        text-align: right;\n",
       "    }\n",
       "</style>\n",
       "<table border=\"1\" class=\"dataframe\">\n",
       "  <thead>\n",
       "    <tr style=\"text-align: right;\">\n",
       "      <th></th>\n",
       "      <th>loan_type</th>\n",
       "      <th>loan_amount</th>\n",
       "      <th>repaid</th>\n",
       "      <th>loan_id</th>\n",
       "      <th>loan_start</th>\n",
       "      <th>loan_end</th>\n",
       "      <th>rate</th>\n",
       "    </tr>\n",
       "    <tr>\n",
       "      <th>client_id</th>\n",
       "      <th></th>\n",
       "      <th></th>\n",
       "      <th></th>\n",
       "      <th></th>\n",
       "      <th></th>\n",
       "      <th></th>\n",
       "      <th></th>\n",
       "    </tr>\n",
       "  </thead>\n",
       "  <tbody>\n",
       "    <tr>\n",
       "      <th>46109</th>\n",
       "      <td>home</td>\n",
       "      <td>13672</td>\n",
       "      <td>0</td>\n",
       "      <td>10243</td>\n",
       "      <td>2002-04-16</td>\n",
       "      <td>2003-12-20</td>\n",
       "      <td>2.15</td>\n",
       "    </tr>\n",
       "    <tr>\n",
       "      <th>46109</th>\n",
       "      <td>credit</td>\n",
       "      <td>9794</td>\n",
       "      <td>0</td>\n",
       "      <td>10984</td>\n",
       "      <td>2003-10-21</td>\n",
       "      <td>2005-07-17</td>\n",
       "      <td>1.25</td>\n",
       "    </tr>\n",
       "    <tr>\n",
       "      <th>46109</th>\n",
       "      <td>home</td>\n",
       "      <td>12734</td>\n",
       "      <td>1</td>\n",
       "      <td>10990</td>\n",
       "      <td>2006-02-01</td>\n",
       "      <td>2007-07-05</td>\n",
       "      <td>0.68</td>\n",
       "    </tr>\n",
       "    <tr>\n",
       "      <th>46109</th>\n",
       "      <td>cash</td>\n",
       "      <td>12518</td>\n",
       "      <td>1</td>\n",
       "      <td>10596</td>\n",
       "      <td>2010-12-08</td>\n",
       "      <td>2013-05-05</td>\n",
       "      <td>1.24</td>\n",
       "    </tr>\n",
       "    <tr>\n",
       "      <th>46109</th>\n",
       "      <td>credit</td>\n",
       "      <td>14049</td>\n",
       "      <td>1</td>\n",
       "      <td>11415</td>\n",
       "      <td>2010-07-07</td>\n",
       "      <td>2012-05-21</td>\n",
       "      <td>3.13</td>\n",
       "    </tr>\n",
       "  </tbody>\n",
       "</table>\n",
       "</div>"
      ],
      "text/plain": [
       "          loan_type  loan_amount  repaid  loan_id  loan_start    loan_end  \\\n",
       "client_id                                                                   \n",
       "46109          home        13672       0    10243  2002-04-16  2003-12-20   \n",
       "46109        credit         9794       0    10984  2003-10-21  2005-07-17   \n",
       "46109          home        12734       1    10990  2006-02-01  2007-07-05   \n",
       "46109          cash        12518       1    10596  2010-12-08  2013-05-05   \n",
       "46109        credit        14049       1    11415  2010-07-07  2012-05-21   \n",
       "\n",
       "           rate  \n",
       "client_id        \n",
       "46109      2.15  \n",
       "46109      1.25  \n",
       "46109      0.68  \n",
       "46109      1.24  \n",
       "46109      3.13  "
      ]
     },
     "execution_count": 2,
     "metadata": {},
     "output_type": "execute_result"
    }
   ],
   "source": [
    "# read dataset with pandas\n",
    "\n",
    "df = pd.read_csv('./loans.csv', index_col=\"client_id\")\n",
    "df.head()"
   ]
  },
  {
   "cell_type": "markdown",
   "id": "fb1855bb-1f99-4ae8-839d-265b1c79689d",
   "metadata": {},
   "source": [
    "### exploration of the dataset"
   ]
  },
  {
   "cell_type": "code",
   "execution_count": 3,
   "id": "507c54d5-719f-4196-8ed5-2f860a0b8c51",
   "metadata": {},
   "outputs": [
    {
     "name": "stdout",
     "output_type": "stream",
     "text": [
      "(443, 7)\n",
      "Index(['loan_type', 'loan_amount', 'repaid', 'loan_id', 'loan_start',\n",
      "       'loan_end', 'rate'],\n",
      "      dtype='object')\n"
     ]
    }
   ],
   "source": [
    "# shape of data set and name columns\n",
    "\n",
    "print(df.shape)\n",
    "print(df.columns)"
   ]
  },
  {
   "cell_type": "code",
   "execution_count": 4,
   "id": "e2403ea5-96a7-49ea-991f-c0c36ac28c0a",
   "metadata": {},
   "outputs": [
    {
     "data": {
      "text/plain": [
       "loan_type       object\n",
       "loan_amount      int64\n",
       "repaid           int64\n",
       "loan_id          int64\n",
       "loan_start      object\n",
       "loan_end        object\n",
       "rate           float64\n",
       "dtype: object"
      ]
     },
     "execution_count": 4,
     "metadata": {},
     "output_type": "execute_result"
    }
   ],
   "source": [
    "# checking the data types of the columns\n",
    "\n",
    "df.dtypes"
   ]
  },
  {
   "cell_type": "code",
   "execution_count": 5,
   "id": "2f404310-7098-4689-b22f-59a023728f66",
   "metadata": {},
   "outputs": [
    {
     "name": "stdout",
     "output_type": "stream",
     "text": [
      "<class 'pandas.core.frame.DataFrame'>\n",
      "Index: 443 entries, 46109 to 26945\n",
      "Data columns (total 7 columns):\n",
      " #   Column       Non-Null Count  Dtype  \n",
      "---  ------       --------------  -----  \n",
      " 0   loan_type    443 non-null    object \n",
      " 1   loan_amount  443 non-null    int64  \n",
      " 2   repaid       443 non-null    int64  \n",
      " 3   loan_id      443 non-null    int64  \n",
      " 4   loan_start   443 non-null    object \n",
      " 5   loan_end     443 non-null    object \n",
      " 6   rate         443 non-null    float64\n",
      "dtypes: float64(1), int64(3), object(3)\n",
      "memory usage: 27.7+ KB\n"
     ]
    }
   ],
   "source": [
    "# get general information about data set\n",
    "\n",
    "df.info()"
   ]
  },
  {
   "cell_type": "code",
   "execution_count": 6,
   "id": "e3265149-2cf6-4f13-9b16-6507341684b6",
   "metadata": {},
   "outputs": [
    {
     "data": {
      "text/html": [
       "<div>\n",
       "<style scoped>\n",
       "    .dataframe tbody tr th:only-of-type {\n",
       "        vertical-align: middle;\n",
       "    }\n",
       "\n",
       "    .dataframe tbody tr th {\n",
       "        vertical-align: top;\n",
       "    }\n",
       "\n",
       "    .dataframe thead th {\n",
       "        text-align: right;\n",
       "    }\n",
       "</style>\n",
       "<table border=\"1\" class=\"dataframe\">\n",
       "  <thead>\n",
       "    <tr style=\"text-align: right;\">\n",
       "      <th></th>\n",
       "      <th>loan_amount</th>\n",
       "      <th>repaid</th>\n",
       "      <th>loan_id</th>\n",
       "      <th>rate</th>\n",
       "    </tr>\n",
       "  </thead>\n",
       "  <tbody>\n",
       "    <tr>\n",
       "      <th>count</th>\n",
       "      <td>443.000000</td>\n",
       "      <td>443.000000</td>\n",
       "      <td>443.000000</td>\n",
       "      <td>443.000000</td>\n",
       "    </tr>\n",
       "    <tr>\n",
       "      <th>mean</th>\n",
       "      <td>7982.311512</td>\n",
       "      <td>0.534989</td>\n",
       "      <td>11017.101580</td>\n",
       "      <td>3.217156</td>\n",
       "    </tr>\n",
       "    <tr>\n",
       "      <th>std</th>\n",
       "      <td>4172.891992</td>\n",
       "      <td>0.499338</td>\n",
       "      <td>581.826222</td>\n",
       "      <td>2.397168</td>\n",
       "    </tr>\n",
       "    <tr>\n",
       "      <th>min</th>\n",
       "      <td>559.000000</td>\n",
       "      <td>0.000000</td>\n",
       "      <td>10009.000000</td>\n",
       "      <td>0.010000</td>\n",
       "    </tr>\n",
       "    <tr>\n",
       "      <th>25%</th>\n",
       "      <td>4232.500000</td>\n",
       "      <td>0.000000</td>\n",
       "      <td>10507.500000</td>\n",
       "      <td>1.220000</td>\n",
       "    </tr>\n",
       "    <tr>\n",
       "      <th>50%</th>\n",
       "      <td>8320.000000</td>\n",
       "      <td>1.000000</td>\n",
       "      <td>11033.000000</td>\n",
       "      <td>2.780000</td>\n",
       "    </tr>\n",
       "    <tr>\n",
       "      <th>75%</th>\n",
       "      <td>11739.000000</td>\n",
       "      <td>1.000000</td>\n",
       "      <td>11526.000000</td>\n",
       "      <td>4.750000</td>\n",
       "    </tr>\n",
       "    <tr>\n",
       "      <th>max</th>\n",
       "      <td>14971.000000</td>\n",
       "      <td>1.000000</td>\n",
       "      <td>11991.000000</td>\n",
       "      <td>12.620000</td>\n",
       "    </tr>\n",
       "  </tbody>\n",
       "</table>\n",
       "</div>"
      ],
      "text/plain": [
       "        loan_amount      repaid       loan_id        rate\n",
       "count    443.000000  443.000000    443.000000  443.000000\n",
       "mean    7982.311512    0.534989  11017.101580    3.217156\n",
       "std     4172.891992    0.499338    581.826222    2.397168\n",
       "min      559.000000    0.000000  10009.000000    0.010000\n",
       "25%     4232.500000    0.000000  10507.500000    1.220000\n",
       "50%     8320.000000    1.000000  11033.000000    2.780000\n",
       "75%    11739.000000    1.000000  11526.000000    4.750000\n",
       "max    14971.000000    1.000000  11991.000000   12.620000"
      ]
     },
     "execution_count": 6,
     "metadata": {},
     "output_type": "execute_result"
    }
   ],
   "source": [
    "# Statistical description of numerical data sets\n",
    "\n",
    "df.describe()"
   ]
  },
  {
   "cell_type": "code",
   "execution_count": 7,
   "id": "643f04f8-7e64-4855-9e23-abcb2828b25c",
   "metadata": {},
   "outputs": [
    {
     "data": {
      "text/html": [
       "<div>\n",
       "<style scoped>\n",
       "    .dataframe tbody tr th:only-of-type {\n",
       "        vertical-align: middle;\n",
       "    }\n",
       "\n",
       "    .dataframe tbody tr th {\n",
       "        vertical-align: top;\n",
       "    }\n",
       "\n",
       "    .dataframe thead th {\n",
       "        text-align: right;\n",
       "    }\n",
       "</style>\n",
       "<table border=\"1\" class=\"dataframe\">\n",
       "  <thead>\n",
       "    <tr style=\"text-align: right;\">\n",
       "      <th></th>\n",
       "      <th>loan_type</th>\n",
       "      <th>loan_start</th>\n",
       "      <th>loan_end</th>\n",
       "    </tr>\n",
       "  </thead>\n",
       "  <tbody>\n",
       "    <tr>\n",
       "      <th>count</th>\n",
       "      <td>443</td>\n",
       "      <td>443</td>\n",
       "      <td>443</td>\n",
       "    </tr>\n",
       "    <tr>\n",
       "      <th>unique</th>\n",
       "      <td>4</td>\n",
       "      <td>430</td>\n",
       "      <td>428</td>\n",
       "    </tr>\n",
       "    <tr>\n",
       "      <th>top</th>\n",
       "      <td>home</td>\n",
       "      <td>2007-05-16</td>\n",
       "      <td>2008-08-29</td>\n",
       "    </tr>\n",
       "    <tr>\n",
       "      <th>freq</th>\n",
       "      <td>121</td>\n",
       "      <td>2</td>\n",
       "      <td>2</td>\n",
       "    </tr>\n",
       "  </tbody>\n",
       "</table>\n",
       "</div>"
      ],
      "text/plain": [
       "       loan_type  loan_start    loan_end\n",
       "count        443         443         443\n",
       "unique         4         430         428\n",
       "top         home  2007-05-16  2008-08-29\n",
       "freq         121           2           2"
      ]
     },
     "execution_count": 7,
     "metadata": {},
     "output_type": "execute_result"
    }
   ],
   "source": [
    "# Statistical description of non-numerical data sets\n",
    "\n",
    "df.describe(exclude=[np.number])"
   ]
  },
  {
   "cell_type": "code",
   "execution_count": 8,
   "id": "9ca689cd-0082-4572-bd88-c0b986769f12",
   "metadata": {},
   "outputs": [
    {
     "data": {
      "text/plain": [
       "loan_type        4\n",
       "loan_amount    438\n",
       "repaid           2\n",
       "loan_id        443\n",
       "loan_start     430\n",
       "loan_end       428\n",
       "rate           336\n",
       "dtype: int64"
      ]
     },
     "execution_count": 8,
     "metadata": {},
     "output_type": "execute_result"
    }
   ],
   "source": [
    "# with nunique show different types for each feature\n",
    "\n",
    "df.nunique()"
   ]
  },
  {
   "cell_type": "code",
   "execution_count": 9,
   "id": "605c90ff-691e-4d05-84a2-df4b07436d87",
   "metadata": {},
   "outputs": [
    {
     "data": {
      "text/plain": [
       "loan_type\n",
       "home      121\n",
       "cash      108\n",
       "credit    107\n",
       "other     107\n",
       "Name: count, dtype: int64"
      ]
     },
     "execution_count": 9,
     "metadata": {},
     "output_type": "execute_result"
    }
   ],
   "source": [
    "# the number of different values for the loan_type column\n",
    "\n",
    "df['loan_type'].value_counts()"
   ]
  },
  {
   "cell_type": "code",
   "execution_count": 10,
   "id": "b5e8478c-4f99-4ec2-a44f-918f685aba0f",
   "metadata": {},
   "outputs": [
    {
     "data": {
      "text/plain": [
       "repaid\n",
       "1    237\n",
       "0    206\n",
       "Name: count, dtype: int64"
      ]
     },
     "execution_count": 10,
     "metadata": {},
     "output_type": "execute_result"
    }
   ],
   "source": [
    "# the number of different values for the repaid column\n",
    "\n",
    "df['repaid'].value_counts()"
   ]
  },
  {
   "cell_type": "code",
   "execution_count": 11,
   "id": "27fab298-af00-42fe-90fd-07d88e72430f",
   "metadata": {},
   "outputs": [
    {
     "data": {
      "text/plain": [
       "loan_type      0\n",
       "loan_amount    0\n",
       "repaid         0\n",
       "loan_id        0\n",
       "loan_start     0\n",
       "loan_end       0\n",
       "rate           0\n",
       "dtype: int64"
      ]
     },
     "execution_count": 11,
     "metadata": {},
     "output_type": "execute_result"
    }
   ],
   "source": [
    "# checking for the missing values\n",
    "\n",
    "df.isnull().sum()"
   ]
  },
  {
   "cell_type": "markdown",
   "id": "d6eb8972-fd0e-49f2-a389-aa91e4701615",
   "metadata": {},
   "source": [
    "#### remove the loan_id feature"
   ]
  },
  {
   "cell_type": "code",
   "execution_count": 12,
   "id": "3d126999-89ba-4318-9dd8-ace83f3b77f5",
   "metadata": {},
   "outputs": [
    {
     "data": {
      "text/html": [
       "<div>\n",
       "<style scoped>\n",
       "    .dataframe tbody tr th:only-of-type {\n",
       "        vertical-align: middle;\n",
       "    }\n",
       "\n",
       "    .dataframe tbody tr th {\n",
       "        vertical-align: top;\n",
       "    }\n",
       "\n",
       "    .dataframe thead th {\n",
       "        text-align: right;\n",
       "    }\n",
       "</style>\n",
       "<table border=\"1\" class=\"dataframe\">\n",
       "  <thead>\n",
       "    <tr style=\"text-align: right;\">\n",
       "      <th></th>\n",
       "      <th>loan_type</th>\n",
       "      <th>loan_amount</th>\n",
       "      <th>repaid</th>\n",
       "      <th>loan_start</th>\n",
       "      <th>loan_end</th>\n",
       "      <th>rate</th>\n",
       "    </tr>\n",
       "    <tr>\n",
       "      <th>client_id</th>\n",
       "      <th></th>\n",
       "      <th></th>\n",
       "      <th></th>\n",
       "      <th></th>\n",
       "      <th></th>\n",
       "      <th></th>\n",
       "    </tr>\n",
       "  </thead>\n",
       "  <tbody>\n",
       "    <tr>\n",
       "      <th>46109</th>\n",
       "      <td>home</td>\n",
       "      <td>13672</td>\n",
       "      <td>0</td>\n",
       "      <td>2002-04-16</td>\n",
       "      <td>2003-12-20</td>\n",
       "      <td>2.15</td>\n",
       "    </tr>\n",
       "    <tr>\n",
       "      <th>46109</th>\n",
       "      <td>credit</td>\n",
       "      <td>9794</td>\n",
       "      <td>0</td>\n",
       "      <td>2003-10-21</td>\n",
       "      <td>2005-07-17</td>\n",
       "      <td>1.25</td>\n",
       "    </tr>\n",
       "    <tr>\n",
       "      <th>46109</th>\n",
       "      <td>home</td>\n",
       "      <td>12734</td>\n",
       "      <td>1</td>\n",
       "      <td>2006-02-01</td>\n",
       "      <td>2007-07-05</td>\n",
       "      <td>0.68</td>\n",
       "    </tr>\n",
       "    <tr>\n",
       "      <th>46109</th>\n",
       "      <td>cash</td>\n",
       "      <td>12518</td>\n",
       "      <td>1</td>\n",
       "      <td>2010-12-08</td>\n",
       "      <td>2013-05-05</td>\n",
       "      <td>1.24</td>\n",
       "    </tr>\n",
       "    <tr>\n",
       "      <th>46109</th>\n",
       "      <td>credit</td>\n",
       "      <td>14049</td>\n",
       "      <td>1</td>\n",
       "      <td>2010-07-07</td>\n",
       "      <td>2012-05-21</td>\n",
       "      <td>3.13</td>\n",
       "    </tr>\n",
       "  </tbody>\n",
       "</table>\n",
       "</div>"
      ],
      "text/plain": [
       "          loan_type  loan_amount  repaid  loan_start    loan_end  rate\n",
       "client_id                                                             \n",
       "46109          home        13672       0  2002-04-16  2003-12-20  2.15\n",
       "46109        credit         9794       0  2003-10-21  2005-07-17  1.25\n",
       "46109          home        12734       1  2006-02-01  2007-07-05  0.68\n",
       "46109          cash        12518       1  2010-12-08  2013-05-05  1.24\n",
       "46109        credit        14049       1  2010-07-07  2012-05-21  3.13"
      ]
     },
     "execution_count": 12,
     "metadata": {},
     "output_type": "execute_result"
    }
   ],
   "source": [
    "# drop loan_id\n",
    "\n",
    "df = df.drop(['loan_id'], axis=1)\n",
    "df.head()"
   ]
  },
  {
   "cell_type": "markdown",
   "id": "2191e67b-5f2d-40a9-86b8-b25957a920c5",
   "metadata": {},
   "source": [
    "#### change the data types"
   ]
  },
  {
   "cell_type": "code",
   "execution_count": 13,
   "id": "d2aa53a0-5399-4e37-828f-5a6d61d6e93d",
   "metadata": {},
   "outputs": [
    {
     "data": {
      "text/plain": [
       "loan_type            category\n",
       "loan_amount             int64\n",
       "repaid               category\n",
       "loan_start     datetime64[ns]\n",
       "loan_end       datetime64[ns]\n",
       "rate                  float64\n",
       "dtype: object"
      ]
     },
     "execution_count": 13,
     "metadata": {},
     "output_type": "execute_result"
    }
   ],
   "source": [
    "# We need to change the type of columns loan_type, loan_start and loan_end and repaid\n",
    "\n",
    "df['repaid'] = df['repaid'].astype('category')\n",
    "df['loan_type'] = df['loan_type'].astype('category')\n",
    "\n",
    "df['loan_start'] = pd.to_datetime(df['loan_start'])\n",
    "df['loan_end'] = pd.to_datetime(df['loan_end'])\n",
    "\n",
    "df.dtypes"
   ]
  },
  {
   "cell_type": "markdown",
   "id": "b5ecebef-e596-4198-93ca-2ac184533e26",
   "metadata": {},
   "source": [
    "#### handling missing values"
   ]
  },
  {
   "cell_type": "code",
   "execution_count": 14,
   "id": "8b45baed-f82a-4d94-8d70-250fc86658d1",
   "metadata": {},
   "outputs": [
    {
     "name": "stdout",
     "output_type": "stream",
     "text": [
      "Numeric Features: \n",
      "           loan_amount  rate\n",
      "client_id                   \n",
      "46109            13672  2.15\n",
      "46109             9794  1.25\n",
      "46109            12734  0.68\n",
      "46109            12518  1.24\n",
      "46109            14049  3.13\n",
      "...                ...   ...\n",
      "26945            12963  2.46\n",
      "26945             1728  5.27\n",
      "26945             9329  5.65\n",
      "26945             4197  4.50\n",
      "26945             3643  0.13\n",
      "\n",
      "[443 rows x 2 columns]\n",
      "\n"
     ]
    }
   ],
   "source": [
    "# Selection of numeric columns\n",
    "\n",
    "df_numeric_features = df.select_dtypes(include=['number'])\n",
    "print(f\"Numeric Features: \\n{df_numeric_features}\\n\")"
   ]
  },
  {
   "cell_type": "code",
   "execution_count": 15,
   "id": "38c64d56-7d53-4d18-b4d4-58be7cc6c009",
   "metadata": {},
   "outputs": [
    {
     "name": "stdout",
     "output_type": "stream",
     "text": [
      "Categorical Features: \n",
      "          loan_type repaid\n",
      "client_id                 \n",
      "46109          home      0\n",
      "46109        credit      0\n",
      "46109          home      1\n",
      "46109          cash      1\n",
      "46109        credit      1\n",
      "...             ...    ...\n",
      "26945         other      0\n",
      "26945        credit      1\n",
      "26945         other      0\n",
      "26945          home      0\n",
      "26945          home      0\n",
      "\n",
      "[443 rows x 2 columns]\n",
      "\n"
     ]
    }
   ],
   "source": [
    "# Selection of category columns\n",
    "\n",
    "df_category_features = df.select_dtypes(include=['category'])\n",
    "print(f\"Categorical Features: \\n{df_category_features}\\n\")"
   ]
  },
  {
   "cell_type": "code",
   "execution_count": 16,
   "id": "f1db6772-78bc-4b38-aa0b-07f2c7f8ef86",
   "metadata": {},
   "outputs": [
    {
     "name": "stdout",
     "output_type": "stream",
     "text": [
      "Datetime Features: \n",
      "          loan_start   loan_end\n",
      "client_id                      \n",
      "46109     2002-04-16 2003-12-20\n",
      "46109     2003-10-21 2005-07-17\n",
      "46109     2006-02-01 2007-07-05\n",
      "46109     2010-12-08 2013-05-05\n",
      "46109     2010-07-07 2012-05-21\n",
      "...              ...        ...\n",
      "26945     2001-11-26 2004-06-11\n",
      "26945     2004-01-27 2005-06-21\n",
      "26945     2001-12-17 2004-07-22\n",
      "26945     2003-10-16 2005-07-10\n",
      "26945     2010-03-24 2011-12-22\n",
      "\n",
      "[443 rows x 2 columns]\n",
      "\n"
     ]
    }
   ],
   "source": [
    "# Selection of datetime columns\n",
    "\n",
    "df_datetime_features = df.select_dtypes(include=['datetime'])\n",
    "print(f\"Datetime Features: \\n{df_datetime_features}\\n\")"
   ]
  },
  {
   "cell_type": "code",
   "execution_count": 17,
   "id": "b4a8a304-101c-4b30-86a5-cf30d0e5c1b8",
   "metadata": {},
   "outputs": [
    {
     "name": "stdout",
     "output_type": "stream",
     "text": [
      "Object Features: \n",
      "Empty DataFrame\n",
      "Columns: []\n",
      "Index: [46109, 46109, 46109, 46109, 46109, 46109, 46109, 46109, 46109, 46109, 46109, 46109, 46109, 46109, 46109, 46109, 46109, 46109, 46109, 46109, 49545, 49545, 49545, 49545, 49545, 49545, 49545, 49545, 49545, 49545, 49545, 49545, 49545, 49545, 49545, 49545, 49545, 49545, 49545, 49545, 41480, 41480, 41480, 41480, 41480, 41480, 41480, 41480, 41480, 41480, 41480, 41480, 41480, 41480, 41480, 41480, 41480, 41480, 41480, 41480, 46180, 46180, 46180, 46180, 46180, 46180, 46180, 46180, 46180, 46180, 46180, 46180, 46180, 46180, 46180, 46180, 46180, 46180, 46180, 46180, 25707, 25707, 25707, 25707, 25707, 25707, 25707, 25707, 25707, 25707, 25707, 25707, 25707, 25707, 25707, 25707, 25707, 25707, 25707, 25707, ...]\n",
      "\n",
      "[443 rows x 0 columns]\n",
      "\n"
     ]
    }
   ],
   "source": [
    "# Selection of object columns\n",
    "\n",
    "df_object_features = df.select_dtypes(include=['object'])\n",
    "print(f\"Object Features: \\n{df_object_features}\\n\")"
   ]
  },
  {
   "cell_type": "markdown",
   "id": "4792af9a-6d45-46d1-942b-6fd02c7ec79b",
   "metadata": {},
   "source": [
    "#### fill missing values by simpleimputer class"
   ]
  },
  {
   "cell_type": "code",
   "execution_count": 18,
   "id": "46a55779-cfac-4e3e-95a0-dfffc3614ec5",
   "metadata": {},
   "outputs": [],
   "source": [
    "from sklearn.impute import SimpleImputer\n",
    "\n",
    "# strategy = [\"mean\", \"median\", \"most_frequent\", \"constant: fill_value=50\"]\n",
    "\n",
    "imputer1 = SimpleImputer(strategy='mean')\n",
    "df_numeric_features = pd.DataFrame(imputer1.fit_transform(df_numeric_features), columns=df_numeric_features.columns)\n",
    "\n",
    "imputer2 = SimpleImputer(strategy='most_frequent')\n",
    "df_category_features = pd.DataFrame(imputer2.fit_transform(df_category_features), columns=df_category_features.columns)"
   ]
  },
  {
   "cell_type": "markdown",
   "id": "5af54699-593c-4f1d-a51d-c57ad2fa7218",
   "metadata": {},
   "source": [
    "#### fill missing values by mode"
   ]
  },
  {
   "cell_type": "code",
   "execution_count": 19,
   "id": "58e9a79b-63c6-4835-83ec-b46fe3b864e9",
   "metadata": {},
   "outputs": [],
   "source": [
    "# fill datetime with mode\n",
    "\n",
    "most_frequent_datetime = df_datetime_features['loan_start'].mode()[0]\n",
    "df_datetime_features['loan_start'] = df_datetime_features['loan_start'].fillna(most_frequent_datetime)\n",
    "\n",
    "most_frequent_datetime = df_datetime_features['loan_end'].mode()[0]\n",
    "df_datetime_features['loan_end'] = df_datetime_features['loan_end'].fillna(most_frequent_datetime)"
   ]
  },
  {
   "cell_type": "markdown",
   "id": "0f7e0080-5af5-4aae-bf60-cb3535e602a9",
   "metadata": {},
   "source": [
    "#### concatenation of all dataframe"
   ]
  },
  {
   "cell_type": "code",
   "execution_count": 22,
   "id": "7090e5f3-d669-4e58-abf4-7a6edc439dcb",
   "metadata": {},
   "outputs": [
    {
     "data": {
      "text/html": [
       "<div>\n",
       "<style scoped>\n",
       "    .dataframe tbody tr th:only-of-type {\n",
       "        vertical-align: middle;\n",
       "    }\n",
       "\n",
       "    .dataframe tbody tr th {\n",
       "        vertical-align: top;\n",
       "    }\n",
       "\n",
       "    .dataframe thead th {\n",
       "        text-align: right;\n",
       "    }\n",
       "</style>\n",
       "<table border=\"1\" class=\"dataframe\">\n",
       "  <thead>\n",
       "    <tr style=\"text-align: right;\">\n",
       "      <th></th>\n",
       "      <th>loan_amount</th>\n",
       "      <th>rate</th>\n",
       "      <th>loan_type</th>\n",
       "      <th>repaid</th>\n",
       "      <th>loan_start</th>\n",
       "      <th>loan_end</th>\n",
       "    </tr>\n",
       "  </thead>\n",
       "  <tbody>\n",
       "    <tr>\n",
       "      <th>0</th>\n",
       "      <td>13672.0</td>\n",
       "      <td>2.15</td>\n",
       "      <td>home</td>\n",
       "      <td>0</td>\n",
       "      <td>2002-04-16</td>\n",
       "      <td>2003-12-20</td>\n",
       "    </tr>\n",
       "    <tr>\n",
       "      <th>1</th>\n",
       "      <td>9794.0</td>\n",
       "      <td>1.25</td>\n",
       "      <td>credit</td>\n",
       "      <td>0</td>\n",
       "      <td>2003-10-21</td>\n",
       "      <td>2005-07-17</td>\n",
       "    </tr>\n",
       "    <tr>\n",
       "      <th>2</th>\n",
       "      <td>12734.0</td>\n",
       "      <td>0.68</td>\n",
       "      <td>home</td>\n",
       "      <td>1</td>\n",
       "      <td>2006-02-01</td>\n",
       "      <td>2007-07-05</td>\n",
       "    </tr>\n",
       "    <tr>\n",
       "      <th>3</th>\n",
       "      <td>12518.0</td>\n",
       "      <td>1.24</td>\n",
       "      <td>cash</td>\n",
       "      <td>1</td>\n",
       "      <td>2010-12-08</td>\n",
       "      <td>2013-05-05</td>\n",
       "    </tr>\n",
       "    <tr>\n",
       "      <th>4</th>\n",
       "      <td>14049.0</td>\n",
       "      <td>3.13</td>\n",
       "      <td>credit</td>\n",
       "      <td>1</td>\n",
       "      <td>2010-07-07</td>\n",
       "      <td>2012-05-21</td>\n",
       "    </tr>\n",
       "  </tbody>\n",
       "</table>\n",
       "</div>"
      ],
      "text/plain": [
       "   loan_amount  rate loan_type repaid loan_start   loan_end\n",
       "0      13672.0  2.15      home      0 2002-04-16 2003-12-20\n",
       "1       9794.0  1.25    credit      0 2003-10-21 2005-07-17\n",
       "2      12734.0  0.68      home      1 2006-02-01 2007-07-05\n",
       "3      12518.0  1.24      cash      1 2010-12-08 2013-05-05\n",
       "4      14049.0  3.13    credit      1 2010-07-07 2012-05-21"
      ]
     },
     "execution_count": 22,
     "metadata": {},
     "output_type": "execute_result"
    }
   ],
   "source": [
    "df_numeric_features.reset_index(drop=True, inplace=True)\n",
    "df_category_features.reset_index(drop=True, inplace=True)\n",
    "df_datetime_features.reset_index(drop=True, inplace=True)\n",
    "\n",
    "df = pd.concat([df_numeric_features, df_category_features, df_datetime_features], axis=1)\n",
    "df.head()"
   ]
  },
  {
   "cell_type": "markdown",
   "id": "33c8b62f-0dd5-4566-b286-671a7701884d",
   "metadata": {},
   "source": [
    "## handeling outlier values"
   ]
  },
  {
   "cell_type": "markdown",
   "id": "d0ce349d-052a-4ac8-975d-268244d0a553",
   "metadata": {},
   "source": [
    "#### show boxplot for outliers"
   ]
  },
  {
   "cell_type": "code",
   "execution_count": 30,
   "id": "8b65ca48-0ee3-4a01-abf9-1b314c2bf8be",
   "metadata": {},
   "outputs": [
    {
     "data": {
      "image/png": "[encoded data removed]",
      "text/plain": [
       "<Figure size 640x480 with 1 Axes>"
      ]
     },
     "metadata": {},
     "output_type": "display_data"
    },
    {
     "data": {
      "image/png": "[encoded data removed]",
      "text/plain": [
       "<Figure size 640x480 with 1 Axes>"
      ]
     },
     "metadata": {},
     "output_type": "display_data"
    }
   ],
   "source": [
    "df['loan_amount'].plot(kind='box')\n",
    "plt.show()\n",
    "\n",
    "df['rate'].plot(kind='box')\n",
    "plt.show()"
   ]
  },
  {
   "cell_type": "markdown",
   "id": "f2f27146-eb8a-4f07-96a3-08a5a14d5949",
   "metadata": {},
   "source": [
    "### Outliers Detections"
   ]
  },
  {
   "cell_type": "code",
   "execution_count": 31,
   "id": "2d2c3abd-a5ab-42f0-8178-e37f9550436a",
   "metadata": {},
   "outputs": [
    {
     "name": "stdout",
     "output_type": "stream",
     "text": [
      "outliers - rate : \n",
      "41     10.49\n",
      "195    10.89\n",
      "421    12.62\n",
      "Name: rate, dtype: float64\n"
     ]
    }
   ],
   "source": [
    "# find outlier by IQR\n",
    "\n",
    "def find_outliers(column):\n",
    "    Q1 = column.quantile(0.25)\n",
    "    Q3 = column.quantile(0.75)\n",
    "    IQR = Q3 - Q1\n",
    "\n",
    "    lower_bound = Q1 - 1.5*IQR\n",
    "    upper_bound = Q3 + 1.5*IQR\n",
    "\n",
    "    return column[(column < lower_bound) | (upper_bound < column)]\n",
    "\n",
    "\n",
    "for i, column in enumerate(df_numeric_features.columns):\n",
    "    outliers = find_outliers(df_numeric_features[column])\n",
    "\n",
    "    if (outliers.size > 0):\n",
    "        print(f\"outliers - {column} : \\n{outliers}\")\n"
   ]
  },
  {
   "cell_type": "code",
   "execution_count": 32,
   "id": "94d49b1c-ddab-49f7-a9c2-693c6c241f06",
   "metadata": {},
   "outputs": [
    {
     "data": {
      "text/html": [
       "<div>\n",
       "<style scoped>\n",
       "    .dataframe tbody tr th:only-of-type {\n",
       "        vertical-align: middle;\n",
       "    }\n",
       "\n",
       "    .dataframe tbody tr th {\n",
       "        vertical-align: top;\n",
       "    }\n",
       "\n",
       "    .dataframe thead th {\n",
       "        text-align: right;\n",
       "    }\n",
       "</style>\n",
       "<table border=\"1\" class=\"dataframe\">\n",
       "  <thead>\n",
       "    <tr style=\"text-align: right;\">\n",
       "      <th></th>\n",
       "      <th>loan_amount</th>\n",
       "      <th>rate</th>\n",
       "      <th>loan_type</th>\n",
       "      <th>repaid</th>\n",
       "      <th>loan_start</th>\n",
       "      <th>loan_end</th>\n",
       "      <th>zscore_rate</th>\n",
       "      <th>zscore_loan_amount</th>\n",
       "    </tr>\n",
       "  </thead>\n",
       "  <tbody>\n",
       "    <tr>\n",
       "      <th>0</th>\n",
       "      <td>13672.0</td>\n",
       "      <td>2.15</td>\n",
       "      <td>home</td>\n",
       "      <td>0</td>\n",
       "      <td>2002-04-16</td>\n",
       "      <td>2003-12-20</td>\n",
       "      <td>-0.445677</td>\n",
       "      <td>1.365030</td>\n",
       "    </tr>\n",
       "    <tr>\n",
       "      <th>1</th>\n",
       "      <td>9794.0</td>\n",
       "      <td>1.25</td>\n",
       "      <td>credit</td>\n",
       "      <td>0</td>\n",
       "      <td>2003-10-21</td>\n",
       "      <td>2005-07-17</td>\n",
       "      <td>-0.821544</td>\n",
       "      <td>0.434647</td>\n",
       "    </tr>\n",
       "    <tr>\n",
       "      <th>2</th>\n",
       "      <td>12734.0</td>\n",
       "      <td>0.68</td>\n",
       "      <td>home</td>\n",
       "      <td>1</td>\n",
       "      <td>2006-02-01</td>\n",
       "      <td>2007-07-05</td>\n",
       "      <td>-1.059594</td>\n",
       "      <td>1.139991</td>\n",
       "    </tr>\n",
       "    <tr>\n",
       "      <th>3</th>\n",
       "      <td>12518.0</td>\n",
       "      <td>1.24</td>\n",
       "      <td>cash</td>\n",
       "      <td>1</td>\n",
       "      <td>2010-12-08</td>\n",
       "      <td>2013-05-05</td>\n",
       "      <td>-0.825721</td>\n",
       "      <td>1.088170</td>\n",
       "    </tr>\n",
       "    <tr>\n",
       "      <th>4</th>\n",
       "      <td>14049.0</td>\n",
       "      <td>3.13</td>\n",
       "      <td>credit</td>\n",
       "      <td>1</td>\n",
       "      <td>2010-07-07</td>\n",
       "      <td>2012-05-21</td>\n",
       "      <td>-0.036399</td>\n",
       "      <td>1.455477</td>\n",
       "    </tr>\n",
       "  </tbody>\n",
       "</table>\n",
       "</div>"
      ],
      "text/plain": [
       "   loan_amount  rate loan_type repaid loan_start   loan_end  zscore_rate  \\\n",
       "0      13672.0  2.15      home      0 2002-04-16 2003-12-20    -0.445677   \n",
       "1       9794.0  1.25    credit      0 2003-10-21 2005-07-17    -0.821544   \n",
       "2      12734.0  0.68      home      1 2006-02-01 2007-07-05    -1.059594   \n",
       "3      12518.0  1.24      cash      1 2010-12-08 2013-05-05    -0.825721   \n",
       "4      14049.0  3.13    credit      1 2010-07-07 2012-05-21    -0.036399   \n",
       "\n",
       "   zscore_loan_amount  \n",
       "0            1.365030  \n",
       "1            0.434647  \n",
       "2            1.139991  \n",
       "3            1.088170  \n",
       "4            1.455477  "
      ]
     },
     "execution_count": 32,
     "metadata": {},
     "output_type": "execute_result"
    }
   ],
   "source": [
    "# find outlier by Z-Score\n",
    "\n",
    "import scipy.stats as stats\n",
    "\n",
    "df['zscore_rate'] = stats.zscore(df['rate'])\n",
    "df['zscore_loan_amount'] = stats.zscore(df['loan_amount'])\n",
    "df.head()"
   ]
  },
  {
   "cell_type": "code",
   "execution_count": 33,
   "id": "6f7712af-3cca-4291-bb14-fd3b101d744e",
   "metadata": {},
   "outputs": [
    {
     "data": {
      "text/html": [
       "<div>\n",
       "<style scoped>\n",
       "    .dataframe tbody tr th:only-of-type {\n",
       "        vertical-align: middle;\n",
       "    }\n",
       "\n",
       "    .dataframe tbody tr th {\n",
       "        vertical-align: top;\n",
       "    }\n",
       "\n",
       "    .dataframe thead th {\n",
       "        text-align: right;\n",
       "    }\n",
       "</style>\n",
       "<table border=\"1\" class=\"dataframe\">\n",
       "  <thead>\n",
       "    <tr style=\"text-align: right;\">\n",
       "      <th></th>\n",
       "      <th>loan_amount</th>\n",
       "      <th>rate</th>\n",
       "      <th>loan_type</th>\n",
       "      <th>repaid</th>\n",
       "      <th>loan_start</th>\n",
       "      <th>loan_end</th>\n",
       "      <th>zscore_rate</th>\n",
       "      <th>zscore_loan_amount</th>\n",
       "    </tr>\n",
       "  </thead>\n",
       "  <tbody>\n",
       "    <tr>\n",
       "      <th>41</th>\n",
       "      <td>2947.0</td>\n",
       "      <td>10.49</td>\n",
       "      <td>credit</td>\n",
       "      <td>1</td>\n",
       "      <td>2005-11-10</td>\n",
       "      <td>2008-03-16</td>\n",
       "      <td>3.037362</td>\n",
       "      <td>-1.208036</td>\n",
       "    </tr>\n",
       "    <tr>\n",
       "      <th>195</th>\n",
       "      <td>6318.0</td>\n",
       "      <td>10.89</td>\n",
       "      <td>other</td>\n",
       "      <td>0</td>\n",
       "      <td>2003-02-02</td>\n",
       "      <td>2005-05-08</td>\n",
       "      <td>3.204415</td>\n",
       "      <td>-0.399290</td>\n",
       "    </tr>\n",
       "    <tr>\n",
       "      <th>421</th>\n",
       "      <td>8133.0</td>\n",
       "      <td>12.62</td>\n",
       "      <td>home</td>\n",
       "      <td>1</td>\n",
       "      <td>2009-03-14</td>\n",
       "      <td>2011-03-21</td>\n",
       "      <td>3.926916</td>\n",
       "      <td>0.036152</td>\n",
       "    </tr>\n",
       "  </tbody>\n",
       "</table>\n",
       "</div>"
      ],
      "text/plain": [
       "     loan_amount   rate loan_type repaid loan_start   loan_end  zscore_rate  \\\n",
       "41        2947.0  10.49    credit      1 2005-11-10 2008-03-16     3.037362   \n",
       "195       6318.0  10.89     other      0 2003-02-02 2005-05-08     3.204415   \n",
       "421       8133.0  12.62      home      1 2009-03-14 2011-03-21     3.926916   \n",
       "\n",
       "     zscore_loan_amount  \n",
       "41            -1.208036  \n",
       "195           -0.399290  \n",
       "421            0.036152  "
      ]
     },
     "execution_count": 33,
     "metadata": {},
     "output_type": "execute_result"
    }
   ],
   "source": [
    "outliers = df[(df['zscore_rate'] < -3) | (3 < df['zscore_rate']) | (df['zscore_loan_amount'] < -3) | (3 < df['zscore_loan_amount'])]\n",
    "outliers"
   ]
  },
  {
   "cell_type": "markdown",
   "id": "c639ab32-7ffd-41b6-b7a4-3a34ae9da8e2",
   "metadata": {},
   "source": [
    "#### drop records containing outliers"
   ]
  },
  {
   "cell_type": "code",
   "execution_count": 34,
   "id": "209a9bbf-156a-4ce5-b1a7-69cb078f34ed",
   "metadata": {},
   "outputs": [
    {
     "data": {
      "text/plain": [
       "(440, 8)"
      ]
     },
     "execution_count": 34,
     "metadata": {},
     "output_type": "execute_result"
    }
   ],
   "source": [
    "df = df[(df['zscore_rate'] > -3) & (3 > df['zscore_rate']) & (df['zscore_loan_amount'] > -3) & (3 > df['zscore_loan_amount'])]\n",
    "df.shape"
   ]
  },
  {
   "cell_type": "code",
   "execution_count": 35,
   "id": "1008c31e-519c-46d4-9fc4-438fd724b9f8",
   "metadata": {},
   "outputs": [
    {
     "data": {
      "text/html": [
       "<div>\n",
       "<style scoped>\n",
       "    .dataframe tbody tr th:only-of-type {\n",
       "        vertical-align: middle;\n",
       "    }\n",
       "\n",
       "    .dataframe tbody tr th {\n",
       "        vertical-align: top;\n",
       "    }\n",
       "\n",
       "    .dataframe thead th {\n",
       "        text-align: right;\n",
       "    }\n",
       "</style>\n",
       "<table border=\"1\" class=\"dataframe\">\n",
       "  <thead>\n",
       "    <tr style=\"text-align: right;\">\n",
       "      <th></th>\n",
       "      <th>loan_amount</th>\n",
       "      <th>rate</th>\n",
       "      <th>loan_type</th>\n",
       "      <th>repaid</th>\n",
       "      <th>loan_start</th>\n",
       "      <th>loan_end</th>\n",
       "    </tr>\n",
       "  </thead>\n",
       "  <tbody>\n",
       "    <tr>\n",
       "      <th>0</th>\n",
       "      <td>13672.0</td>\n",
       "      <td>2.15</td>\n",
       "      <td>home</td>\n",
       "      <td>0</td>\n",
       "      <td>2002-04-16</td>\n",
       "      <td>2003-12-20</td>\n",
       "    </tr>\n",
       "    <tr>\n",
       "      <th>1</th>\n",
       "      <td>9794.0</td>\n",
       "      <td>1.25</td>\n",
       "      <td>credit</td>\n",
       "      <td>0</td>\n",
       "      <td>2003-10-21</td>\n",
       "      <td>2005-07-17</td>\n",
       "    </tr>\n",
       "    <tr>\n",
       "      <th>2</th>\n",
       "      <td>12734.0</td>\n",
       "      <td>0.68</td>\n",
       "      <td>home</td>\n",
       "      <td>1</td>\n",
       "      <td>2006-02-01</td>\n",
       "      <td>2007-07-05</td>\n",
       "    </tr>\n",
       "    <tr>\n",
       "      <th>3</th>\n",
       "      <td>12518.0</td>\n",
       "      <td>1.24</td>\n",
       "      <td>cash</td>\n",
       "      <td>1</td>\n",
       "      <td>2010-12-08</td>\n",
       "      <td>2013-05-05</td>\n",
       "    </tr>\n",
       "    <tr>\n",
       "      <th>4</th>\n",
       "      <td>14049.0</td>\n",
       "      <td>3.13</td>\n",
       "      <td>credit</td>\n",
       "      <td>1</td>\n",
       "      <td>2010-07-07</td>\n",
       "      <td>2012-05-21</td>\n",
       "    </tr>\n",
       "  </tbody>\n",
       "</table>\n",
       "</div>"
      ],
      "text/plain": [
       "   loan_amount  rate loan_type repaid loan_start   loan_end\n",
       "0      13672.0  2.15      home      0 2002-04-16 2003-12-20\n",
       "1       9794.0  1.25    credit      0 2003-10-21 2005-07-17\n",
       "2      12734.0  0.68      home      1 2006-02-01 2007-07-05\n",
       "3      12518.0  1.24      cash      1 2010-12-08 2013-05-05\n",
       "4      14049.0  3.13    credit      1 2010-07-07 2012-05-21"
      ]
     },
     "execution_count": 35,
     "metadata": {},
     "output_type": "execute_result"
    }
   ],
   "source": [
    "# drop zscore columns\n",
    "\n",
    "df = df.drop(['zscore_rate', 'zscore_loan_amount'], axis=1)\n",
    "df.head()"
   ]
  },
  {
   "cell_type": "code",
   "execution_count": null,
   "id": "cdc93c76-1e81-4f28-aec0-996b7e87aacf",
   "metadata": {},
   "outputs": [],
   "source": []
  }
 ],
 "metadata": {
  "kernelspec": {
   "display_name": "Python 3 (ipykernel)",
   "language": "python",
   "name": "python3"
  },
  "language_info": {
   "codemirror_mode": {
    "name": "ipython",
    "version": 3
   },
   "file_extension": ".py",
   "mimetype": "text/x-python",
   "name": "python",
   "nbconvert_exporter": "python",
   "pygments_lexer": "ipython3",
   "version": "3.11.7"
  }
 },
 "nbformat": 4,
 "nbformat_minor": 5
}
